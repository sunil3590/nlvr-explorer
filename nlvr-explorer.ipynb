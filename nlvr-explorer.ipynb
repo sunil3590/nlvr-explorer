{
 "cells": [
  {
   "cell_type": "code",
   "execution_count": null,
   "metadata": {},
   "outputs": [],
   "source": [
    "import json\n",
    "from PIL import Image\n",
    "\n",
    "fname = './nlvr/dev/dev.json'\n",
    "images_path = './nlvr/dev/images'\n",
    "lines = open(fname).readlines()\n",
    "\n",
    "\n",
    "def get_path(match):\n",
    "    return images_path + '/' + match['directory'] + '/dev-' + match['identifier'] + '-' + str(i) + '.png'\n",
    "\n",
    "\n",
    "images = []\n",
    "for line in lines:\n",
    "    data = json.loads(line)\n",
    "    images.append(data)\n",
    "\n",
    "print(str(len(images)) + ' images found\\n')\n",
    "\n",
    "print('Enter search query or \\'end\\'\\n')\n",
    "query = ''\n",
    "while True:\n",
    "    query = raw_input('Query : ')\n",
    "    if query == 'end':\n",
    "        break\n",
    "    \n",
    "    matches = []\n",
    "    matched_ids = set()\n",
    "    for word in query.lower().split():\n",
    "        for image in images:\n",
    "            if image['identifier'] in matched_ids:\n",
    "                continue\n",
    "            if word in image['sentence'].lower().split():\n",
    "                print(get_path(image))\n",
    "                matches.append(image)\n",
    "                matched_ids.add(image['identifier'])\n",
    "\n",
    "    print('Found ' + str(len(matches)) + ' matching images\\n')\n",
    "    \n",
    "    for match in matches[0:1]:\n",
    "        for i in [0, 1, 2, 3, 4, 5]:\n",
    "            img = Image.open(get_path(match)).show(title=match['sentence'])\n"
   ]
  }
 ],
 "metadata": {
  "kernelspec": {
   "display_name": "Python 2",
   "language": "python",
   "name": "python2"
  },
  "language_info": {
   "codemirror_mode": {
    "name": "ipython",
    "version": 2
   },
   "file_extension": ".py",
   "mimetype": "text/x-python",
   "name": "python",
   "nbconvert_exporter": "python",
   "pygments_lexer": "ipython2",
   "version": "2.7.12"
  }
 },
 "nbformat": 4,
 "nbformat_minor": 1
}
